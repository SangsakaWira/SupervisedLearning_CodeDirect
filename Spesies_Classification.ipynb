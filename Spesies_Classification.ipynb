{
 "cells": [
  {
   "cell_type": "markdown",
   "metadata": {
    "colab_type": "text",
    "id": "qpgpCly_S78Z"
   },
   "source": [
    "**Klasifikasi Spesies Bunga**\n",
    "\n",
    "Pada kasus ini kita akan memodelkan AI untuk mengklasifikasikan spesies bunga berdasarkan panjang dan lebar daun.\n",
    "\n",
    "Parameter:\n",
    "1. Panjang: Panjang daun bunga\n",
    "2. Lebar: Lebar daun bunga\n",
    "\n",
    "Kelas:\n",
    "1. Spesies A\n",
    "2. Spesies B"
   ]
  },
  {
   "cell_type": "code",
   "execution_count": 2,
   "metadata": {
    "colab": {
     "base_uri": "https://localhost:8080/",
     "height": 34
    },
    "colab_type": "code",
    "id": "eyXV8XueS483",
    "outputId": "47b176a4-3a0d-4741-ac84-c803c60e2c48"
   },
   "outputs": [],
   "source": [
    "# IMPORT LIBRARY UNTUK PEMODELAN DAN PENGOLAHAN DATA\n",
    "import pandas as pd\n",
    "import numpy as np\n",
    "import seaborn as sns\n",
    "import keras\n",
    "from keras.models import Sequential\n",
    "from keras.layers import Dense"
   ]
  },
  {
   "cell_type": "code",
   "execution_count": 3,
   "metadata": {
    "colab": {
     "base_uri": "https://localhost:8080/",
     "height": 230
    },
    "colab_type": "code",
    "id": "1OFSWmZBVqwR",
    "outputId": "ed12c0d7-22f4-45cf-b79a-c525747fc9b0"
   },
   "outputs": [
    {
     "name": "stdout",
     "output_type": "stream",
     "text": [
      "  % Total    % Received % Xferd  Average Speed   Time    Time     Time  Current\n",
      "                                 Dload  Upload   Total   Spent    Left  Speed\n",
      "100   136  100   136    0     0    239      0 --:--:-- --:--:-- --:--:--   239\n"
     ]
    }
   ],
   "source": [
    "# !wget https://raw.githubusercontent.com/SangsakaWira/Materi-AI-Codedirect/master/Dataset/data-bunga.csv #untuk colab\n",
    "!curl -O https://raw.githubusercontent.com/SangsakaWira/Materi-AI-Codedirect/master/Dataset/data-bunga.csv #untuk mac"
   ]
  },
  {
   "cell_type": "code",
   "execution_count": 0,
   "metadata": {
    "colab": {},
    "colab_type": "code",
    "id": "reiyA2aTVw8s"
   },
   "outputs": [],
   "source": [
    "# PENGAMBILAN DATA UNTUK PEMODELAN AI\n",
    "data = pd.read_csv(\"data-bunga.csv\",sep=\";\")"
   ]
  },
  {
   "cell_type": "code",
   "execution_count": 0,
   "metadata": {
    "colab": {
     "base_uri": "https://localhost:8080/",
     "height": 491
    },
    "colab_type": "code",
    "id": "BSP25khiV1hO",
    "outputId": "76c13767-a534-4631-d41f-f94052f8accd"
   },
   "outputs": [
    {
     "data": {
      "text/html": [
       "<div>\n",
       "<style scoped>\n",
       "    .dataframe tbody tr th:only-of-type {\n",
       "        vertical-align: middle;\n",
       "    }\n",
       "\n",
       "    .dataframe tbody tr th {\n",
       "        vertical-align: top;\n",
       "    }\n",
       "\n",
       "    .dataframe thead th {\n",
       "        text-align: right;\n",
       "    }\n",
       "</style>\n",
       "<table border=\"1\" class=\"dataframe\">\n",
       "  <thead>\n",
       "    <tr style=\"text-align: right;\">\n",
       "      <th></th>\n",
       "      <th>panjang</th>\n",
       "      <th>lebar</th>\n",
       "      <th>target</th>\n",
       "    </tr>\n",
       "  </thead>\n",
       "  <tbody>\n",
       "    <tr>\n",
       "      <th>0</th>\n",
       "      <td>4</td>\n",
       "      <td>2</td>\n",
       "      <td>0</td>\n",
       "    </tr>\n",
       "    <tr>\n",
       "      <th>1</th>\n",
       "      <td>5</td>\n",
       "      <td>3</td>\n",
       "      <td>0</td>\n",
       "    </tr>\n",
       "    <tr>\n",
       "      <th>2</th>\n",
       "      <td>6</td>\n",
       "      <td>3</td>\n",
       "      <td>0</td>\n",
       "    </tr>\n",
       "    <tr>\n",
       "      <th>3</th>\n",
       "      <td>13</td>\n",
       "      <td>9</td>\n",
       "      <td>1</td>\n",
       "    </tr>\n",
       "    <tr>\n",
       "      <th>4</th>\n",
       "      <td>5</td>\n",
       "      <td>3</td>\n",
       "      <td>0</td>\n",
       "    </tr>\n",
       "    <tr>\n",
       "      <th>5</th>\n",
       "      <td>10</td>\n",
       "      <td>9</td>\n",
       "      <td>1</td>\n",
       "    </tr>\n",
       "    <tr>\n",
       "      <th>6</th>\n",
       "      <td>10</td>\n",
       "      <td>10</td>\n",
       "      <td>1</td>\n",
       "    </tr>\n",
       "    <tr>\n",
       "      <th>7</th>\n",
       "      <td>3</td>\n",
       "      <td>1</td>\n",
       "      <td>0</td>\n",
       "    </tr>\n",
       "    <tr>\n",
       "      <th>8</th>\n",
       "      <td>5</td>\n",
       "      <td>4</td>\n",
       "      <td>0</td>\n",
       "    </tr>\n",
       "    <tr>\n",
       "      <th>9</th>\n",
       "      <td>7</td>\n",
       "      <td>5</td>\n",
       "      <td>0</td>\n",
       "    </tr>\n",
       "    <tr>\n",
       "      <th>10</th>\n",
       "      <td>15</td>\n",
       "      <td>12</td>\n",
       "      <td>1</td>\n",
       "    </tr>\n",
       "    <tr>\n",
       "      <th>11</th>\n",
       "      <td>13</td>\n",
       "      <td>11</td>\n",
       "      <td>1</td>\n",
       "    </tr>\n",
       "    <tr>\n",
       "      <th>12</th>\n",
       "      <td>4</td>\n",
       "      <td>3</td>\n",
       "      <td>0</td>\n",
       "    </tr>\n",
       "    <tr>\n",
       "      <th>13</th>\n",
       "      <td>4</td>\n",
       "      <td>2</td>\n",
       "      <td>0</td>\n",
       "    </tr>\n",
       "    <tr>\n",
       "      <th>14</th>\n",
       "      <td>4</td>\n",
       "      <td>3</td>\n",
       "      <td>0</td>\n",
       "    </tr>\n",
       "  </tbody>\n",
       "</table>\n",
       "</div>"
      ],
      "text/plain": [
       "    panjang  lebar  target\n",
       "0         4      2       0\n",
       "1         5      3       0\n",
       "2         6      3       0\n",
       "3        13      9       1\n",
       "4         5      3       0\n",
       "5        10      9       1\n",
       "6        10     10       1\n",
       "7         3      1       0\n",
       "8         5      4       0\n",
       "9         7      5       0\n",
       "10       15     12       1\n",
       "11       13     11       1\n",
       "12        4      3       0\n",
       "13        4      2       0\n",
       "14        4      3       0"
      ]
     },
     "execution_count": 6,
     "metadata": {
      "tags": []
     },
     "output_type": "execute_result"
    }
   ],
   "source": [
    "# ANALISA DATA SEBELUM TRAINING\n",
    "data"
   ]
  },
  {
   "cell_type": "code",
   "execution_count": 0,
   "metadata": {
    "colab": {
     "base_uri": "https://localhost:8080/",
     "height": 283
    },
    "colab_type": "code",
    "id": "9yQkZ-A1gwdt",
    "outputId": "746b48f3-6c53-4e54-dcec-424cb3b5cedb"
   },
   "outputs": [
    {
     "data": {
      "image/png": "[encoded data removed]",
      "text/plain": [
       "<Figure size 432x288 with 1 Axes>"
      ]
     },
     "metadata": {
      "tags": []
     },
     "output_type": "display_data"
    }
   ],
   "source": [
    "# PLOTTING DATA\n",
    "ax = sns.scatterplot(x=\"panjang\", y=\"lebar\",hue=\"target\",data=data)"
   ]
  },
  {
   "cell_type": "code",
   "execution_count": 0,
   "metadata": {
    "colab": {},
    "colab_type": "code",
    "id": "zD0-UoWXh74e"
   },
   "outputs": [],
   "source": [
    "# PENGUBAHAN FORMAT DATASET AGAR SESUAI DENGAN MODEL ANN KERAS\n",
    "x = data.iloc[:,:2].values\n",
    "y = data.iloc[:,2].values"
   ]
  },
  {
   "cell_type": "code",
   "execution_count": 0,
   "metadata": {
    "colab": {
     "base_uri": "https://localhost:8080/",
     "height": 281
    },
    "colab_type": "code",
    "id": "5AgCUIijiGV9",
    "outputId": "c5bef93a-9d1a-4068-a831-f7d41d167a9a"
   },
   "outputs": [
    {
     "data": {
      "text/plain": [
       "array([[ 4,  2],\n",
       "       [ 5,  3],\n",
       "       [ 6,  3],\n",
       "       [13,  9],\n",
       "       [ 5,  3],\n",
       "       [10,  9],\n",
       "       [10, 10],\n",
       "       [ 3,  1],\n",
       "       [ 5,  4],\n",
       "       [ 7,  5],\n",
       "       [15, 12],\n",
       "       [13, 11],\n",
       "       [ 4,  3],\n",
       "       [ 4,  2],\n",
       "       [ 4,  3]])"
      ]
     },
     "execution_count": 13,
     "metadata": {
      "tags": []
     },
     "output_type": "execute_result"
    }
   ],
   "source": [
    "# MELIHAT FORMAT INPUT YANG SESUAI DENGAN MODEL \n",
    "x"
   ]
  },
  {
   "cell_type": "code",
   "execution_count": 0,
   "metadata": {
    "colab": {
     "base_uri": "https://localhost:8080/",
     "height": 34
    },
    "colab_type": "code",
    "id": "LZMQrRoJiH9d",
    "outputId": "016ec996-0623-4b29-d6a4-05089814d084"
   },
   "outputs": [
    {
     "data": {
      "text/plain": [
       "array([0, 0, 0, 1, 0, 1, 1, 0, 0, 0, 1, 1, 0, 0, 0])"
      ]
     },
     "execution_count": 15,
     "metadata": {
      "tags": []
     },
     "output_type": "execute_result"
    }
   ],
   "source": [
    "# MELIHAT FORMAT OUTPUT YANG SESUAI DENGAN MODEL \n",
    "y"
   ]
  },
  {
   "cell_type": "code",
   "execution_count": 2,
   "metadata": {
    "colab": {
     "base_uri": "https://localhost:8080/",
     "height": 266
    },
    "colab_type": "code",
    "id": "VhXdQYMD0WaT",
    "outputId": "0257e6f4-305b-431b-9903-2d1023ae4bd1"
   },
   "outputs": [
    {
     "name": "stdout",
     "output_type": "stream",
     "text": [
      "WARNING:tensorflow:From /Users/sangsakawira/miniconda3/lib/python3.7/site-packages/keras/backend/tensorflow_backend.py:74: The name tf.get_default_graph is deprecated. Please use tf.compat.v1.get_default_graph instead.\n",
      "\n",
      "WARNING:tensorflow:From /Users/sangsakawira/miniconda3/lib/python3.7/site-packages/keras/backend/tensorflow_backend.py:517: The name tf.placeholder is deprecated. Please use tf.compat.v1.placeholder instead.\n",
      "\n",
      "WARNING:tensorflow:From /Users/sangsakawira/miniconda3/lib/python3.7/site-packages/keras/backend/tensorflow_backend.py:4138: The name tf.random_uniform is deprecated. Please use tf.random.uniform instead.\n",
      "\n",
      "WARNING:tensorflow:From /Users/sangsakawira/miniconda3/lib/python3.7/site-packages/keras/optimizers.py:790: The name tf.train.Optimizer is deprecated. Please use tf.compat.v1.train.Optimizer instead.\n",
      "\n",
      "WARNING:tensorflow:From /Users/sangsakawira/miniconda3/lib/python3.7/site-packages/keras/backend/tensorflow_backend.py:3376: The name tf.log is deprecated. Please use tf.math.log instead.\n",
      "\n",
      "WARNING:tensorflow:From /Users/sangsakawira/miniconda3/lib/python3.7/site-packages/tensorflow/python/ops/nn_impl.py:180: add_dispatch_support.<locals>.wrapper (from tensorflow.python.ops.array_ops) is deprecated and will be removed in a future version.\n",
      "Instructions for updating:\n",
      "Use tf.where in 2.0, which has the same broadcast rule as np.where\n"
     ]
    }
   ],
   "source": [
    "# INISIASI ANN (Artificial Neural Network)\n",
    "classifier = Sequential()\n",
    "\n",
    "# INISIASI INPUT LAYER SEBANYAK 2 LAYER DAN HIDDEN LAYER SEBANYAK 15 NODE\n",
    "classifier.add(Dense(units = 15, kernel_initializer = 'uniform', activation = 'relu', input_dim = 2))\n",
    "\n",
    "# PENDAMBAHAN HIDDEN LAYER KEDUA \n",
    "classifier.add(Dense(units = 15, kernel_initializer = 'uniform', activation = 'relu'))\n",
    "\n",
    "# PENDAMBAHAN HIDDEN LAYER KETIGA\n",
    "classifier.add(Dense(units = 15, kernel_initializer = 'uniform', activation = 'relu'))\n",
    "\n",
    "# PENDAMBAHAN HIDDEN LAYER KELIMA\n",
    "classifier.add(Dense(units = 15, kernel_initializer = 'uniform', activation = 'relu'))\n",
    "\n",
    "# PENAMBAHAN OUTPUT LAYER\n",
    "classifier.add(Dense(units = 1, kernel_initializer = 'uniform', activation = 'sigmoid'))\n",
    "\n",
    "# COMPILE ANN\n",
    "classifier.compile(optimizer = 'adam', loss = 'binary_crossentropy', metrics = ['accuracy'])"
   ]
  },
  {
   "cell_type": "code",
   "execution_count": 0,
   "metadata": {
    "colab": {
     "base_uri": "https://localhost:8080/",
     "height": 1000
    },
    "colab_type": "code",
    "id": "4STDjWwh55ny",
    "outputId": "0b8b24f6-00f9-4279-baaa-1170bfdbaa27"
   },
   "outputs": [
    {
     "name": "stdout",
     "output_type": "stream",
     "text": [
      "WARNING:tensorflow:From /usr/local/lib/python3.6/dist-packages/keras/backend/tensorflow_backend.py:1033: The name tf.assign_add is deprecated. Please use tf.compat.v1.assign_add instead.\n",
      "\n",
      "WARNING:tensorflow:From /usr/local/lib/python3.6/dist-packages/keras/backend/tensorflow_backend.py:1020: The name tf.assign is deprecated. Please use tf.compat.v1.assign instead.\n",
      "\n",
      "WARNING:tensorflow:From /usr/local/lib/python3.6/dist-packages/keras/backend/tensorflow_backend.py:3005: The name tf.Session is deprecated. Please use tf.compat.v1.Session instead.\n",
      "\n",
      "Epoch 1/100\n",
      "WARNING:tensorflow:From /usr/local/lib/python3.6/dist-packages/keras/backend/tensorflow_backend.py:190: The name tf.get_default_session is deprecated. Please use tf.compat.v1.get_default_session instead.\n",
      "\n",
      "WARNING:tensorflow:From /usr/local/lib/python3.6/dist-packages/keras/backend/tensorflow_backend.py:197: The name tf.ConfigProto is deprecated. Please use tf.compat.v1.ConfigProto instead.\n",
      "\n",
      "WARNING:tensorflow:From /usr/local/lib/python3.6/dist-packages/keras/backend/tensorflow_backend.py:207: The name tf.global_variables is deprecated. Please use tf.compat.v1.global_variables instead.\n",
      "\n",
      "WARNING:tensorflow:From /usr/local/lib/python3.6/dist-packages/keras/backend/tensorflow_backend.py:216: The name tf.is_variable_initialized is deprecated. Please use tf.compat.v1.is_variable_initialized instead.\n",
      "\n",
      "WARNING:tensorflow:From /usr/local/lib/python3.6/dist-packages/keras/backend/tensorflow_backend.py:223: The name tf.variables_initializer is deprecated. Please use tf.compat.v1.variables_initializer instead.\n",
      "\n",
      "15/15 [==============================] - 1s 68ms/step - loss: 0.6931 - acc: 0.6667\n",
      "Epoch 2/100\n",
      "15/15 [==============================] - 0s 520us/step - loss: 0.6927 - acc: 0.6667\n",
      "Epoch 3/100\n",
      "15/15 [==============================] - 0s 576us/step - loss: 0.6925 - acc: 0.6667\n",
      "Epoch 4/100\n",
      "15/15 [==============================] - 0s 689us/step - loss: 0.6923 - acc: 0.6667\n",
      "Epoch 5/100\n",
      "15/15 [==============================] - 0s 637us/step - loss: 0.6919 - acc: 0.6667\n",
      "Epoch 6/100\n",
      "15/15 [==============================] - 0s 752us/step - loss: 0.6916 - acc: 0.6667\n",
      "Epoch 7/100\n",
      "15/15 [==============================] - 0s 748us/step - loss: 0.6914 - acc: 0.6667\n",
      "Epoch 8/100\n",
      "15/15 [==============================] - 0s 502us/step - loss: 0.6909 - acc: 0.6667\n",
      "Epoch 9/100\n",
      "15/15 [==============================] - 0s 827us/step - loss: 0.6907 - acc: 0.6667\n",
      "Epoch 10/100\n",
      "15/15 [==============================] - 0s 770us/step - loss: 0.6903 - acc: 0.6667\n",
      "Epoch 11/100\n",
      "15/15 [==============================] - 0s 850us/step - loss: 0.6901 - acc: 0.6667\n",
      "Epoch 12/100\n",
      "15/15 [==============================] - 0s 461us/step - loss: 0.6897 - acc: 0.6667\n",
      "Epoch 13/100\n",
      "15/15 [==============================] - 0s 664us/step - loss: 0.6892 - acc: 0.6667\n",
      "Epoch 14/100\n",
      "15/15 [==============================] - 0s 709us/step - loss: 0.6890 - acc: 0.6667\n",
      "Epoch 15/100\n",
      "15/15 [==============================] - 0s 802us/step - loss: 0.6888 - acc: 0.6667\n",
      "Epoch 16/100\n",
      "15/15 [==============================] - 0s 805us/step - loss: 0.6882 - acc: 0.6667\n",
      "Epoch 17/100\n",
      "15/15 [==============================] - 0s 910us/step - loss: 0.6879 - acc: 0.6667\n",
      "Epoch 18/100\n",
      "15/15 [==============================] - 0s 948us/step - loss: 0.6875 - acc: 0.6667\n",
      "Epoch 19/100\n",
      "15/15 [==============================] - 0s 872us/step - loss: 0.6871 - acc: 0.6667\n",
      "Epoch 20/100\n",
      "15/15 [==============================] - 0s 941us/step - loss: 0.6866 - acc: 0.6667\n",
      "Epoch 21/100\n",
      "15/15 [==============================] - 0s 622us/step - loss: 0.6864 - acc: 0.6667\n",
      "Epoch 22/100\n",
      "15/15 [==============================] - 0s 1ms/step - loss: 0.6857 - acc: 0.6667\n",
      "Epoch 23/100\n",
      "15/15 [==============================] - 0s 1ms/step - loss: 0.6853 - acc: 0.6667\n",
      "Epoch 24/100\n",
      "15/15 [==============================] - 0s 848us/step - loss: 0.6848 - acc: 0.6667\n",
      "Epoch 25/100\n",
      "15/15 [==============================] - 0s 786us/step - loss: 0.6842 - acc: 0.6667\n",
      "Epoch 26/100\n",
      "15/15 [==============================] - 0s 874us/step - loss: 0.6836 - acc: 0.6667\n",
      "Epoch 27/100\n",
      "15/15 [==============================] - 0s 686us/step - loss: 0.6832 - acc: 0.6667\n",
      "Epoch 28/100\n",
      "15/15 [==============================] - 0s 738us/step - loss: 0.6823 - acc: 0.6667\n",
      "Epoch 29/100\n",
      "15/15 [==============================] - 0s 755us/step - loss: 0.6814 - acc: 0.6667\n",
      "Epoch 30/100\n",
      "15/15 [==============================] - 0s 559us/step - loss: 0.6809 - acc: 0.6667\n",
      "Epoch 31/100\n",
      "15/15 [==============================] - 0s 523us/step - loss: 0.6803 - acc: 0.6667\n",
      "Epoch 32/100\n",
      "15/15 [==============================] - 0s 454us/step - loss: 0.6794 - acc: 0.6667\n",
      "Epoch 33/100\n",
      "15/15 [==============================] - 0s 670us/step - loss: 0.6786 - acc: 0.6667\n",
      "Epoch 34/100\n",
      "15/15 [==============================] - 0s 787us/step - loss: 0.6775 - acc: 0.6667\n",
      "Epoch 35/100\n",
      "15/15 [==============================] - 0s 827us/step - loss: 0.6764 - acc: 0.6667\n",
      "Epoch 36/100\n",
      "15/15 [==============================] - 0s 756us/step - loss: 0.6757 - acc: 0.6667\n",
      "Epoch 37/100\n",
      "15/15 [==============================] - 0s 871us/step - loss: 0.6745 - acc: 0.6667\n",
      "Epoch 38/100\n",
      "15/15 [==============================] - 0s 873us/step - loss: 0.6731 - acc: 0.6667\n",
      "Epoch 39/100\n",
      "15/15 [==============================] - 0s 734us/step - loss: 0.6715 - acc: 0.6667\n",
      "Epoch 40/100\n",
      "15/15 [==============================] - 0s 665us/step - loss: 0.6703 - acc: 0.6667\n",
      "Epoch 41/100\n",
      "15/15 [==============================] - 0s 842us/step - loss: 0.6683 - acc: 0.6667\n",
      "Epoch 42/100\n",
      "15/15 [==============================] - 0s 775us/step - loss: 0.6662 - acc: 0.6667\n",
      "Epoch 43/100\n",
      "15/15 [==============================] - 0s 761us/step - loss: 0.6643 - acc: 0.6667\n",
      "Epoch 44/100\n",
      "15/15 [==============================] - 0s 853us/step - loss: 0.6616 - acc: 0.6667\n",
      "Epoch 45/100\n",
      "15/15 [==============================] - 0s 856us/step - loss: 0.6593 - acc: 0.6667\n",
      "Epoch 46/100\n",
      "15/15 [==============================] - 0s 681us/step - loss: 0.6557 - acc: 0.6667\n",
      "Epoch 47/100\n",
      "15/15 [==============================] - 0s 636us/step - loss: 0.6526 - acc: 0.6667\n",
      "Epoch 48/100\n",
      "15/15 [==============================] - 0s 589us/step - loss: 0.6496 - acc: 0.6667\n",
      "Epoch 49/100\n",
      "15/15 [==============================] - 0s 657us/step - loss: 0.6452 - acc: 0.6667\n",
      "Epoch 50/100\n",
      "15/15 [==============================] - 0s 658us/step - loss: 0.6408 - acc: 0.6667\n",
      "Epoch 51/100\n",
      "15/15 [==============================] - 0s 588us/step - loss: 0.6359 - acc: 0.6667\n",
      "Epoch 52/100\n",
      "15/15 [==============================] - 0s 709us/step - loss: 0.6315 - acc: 0.6667\n",
      "Epoch 53/100\n",
      "15/15 [==============================] - 0s 572us/step - loss: 0.6253 - acc: 0.6667\n",
      "Epoch 54/100\n",
      "15/15 [==============================] - 0s 564us/step - loss: 0.6192 - acc: 0.6667\n",
      "Epoch 55/100\n",
      "15/15 [==============================] - 0s 626us/step - loss: 0.6123 - acc: 0.6667\n",
      "Epoch 56/100\n",
      "15/15 [==============================] - 0s 634us/step - loss: 0.6067 - acc: 0.6667\n",
      "Epoch 57/100\n",
      "15/15 [==============================] - 0s 575us/step - loss: 0.5979 - acc: 0.6667\n",
      "Epoch 58/100\n",
      "15/15 [==============================] - 0s 570us/step - loss: 0.5902 - acc: 0.6667\n",
      "Epoch 59/100\n",
      "15/15 [==============================] - 0s 584us/step - loss: 0.5809 - acc: 0.6667\n",
      "Epoch 60/100\n",
      "15/15 [==============================] - 0s 586us/step - loss: 0.5728 - acc: 0.6667\n",
      "Epoch 61/100\n",
      "15/15 [==============================] - 0s 495us/step - loss: 0.5615 - acc: 0.6667\n",
      "Epoch 62/100\n",
      "15/15 [==============================] - 0s 410us/step - loss: 0.5517 - acc: 0.6667\n",
      "Epoch 63/100\n",
      "15/15 [==============================] - 0s 554us/step - loss: 0.5404 - acc: 0.6667\n",
      "Epoch 64/100\n",
      "15/15 [==============================] - 0s 603us/step - loss: 0.5278 - acc: 0.6667\n",
      "Epoch 65/100\n",
      "15/15 [==============================] - 0s 636us/step - loss: 0.5175 - acc: 0.6667\n",
      "Epoch 66/100\n",
      "15/15 [==============================] - 0s 572us/step - loss: 0.5051 - acc: 0.6667\n",
      "Epoch 67/100\n",
      "15/15 [==============================] - 0s 664us/step - loss: 0.4936 - acc: 0.6667\n",
      "Epoch 68/100\n",
      "15/15 [==============================] - 0s 593us/step - loss: 0.4803 - acc: 0.6667\n",
      "Epoch 69/100\n",
      "15/15 [==============================] - 0s 530us/step - loss: 0.4669 - acc: 0.6667\n",
      "Epoch 70/100\n",
      "15/15 [==============================] - 0s 576us/step - loss: 0.4523 - acc: 0.6667\n",
      "Epoch 71/100\n",
      "15/15 [==============================] - 0s 617us/step - loss: 0.4413 - acc: 0.6667\n",
      "Epoch 72/100\n",
      "15/15 [==============================] - 0s 617us/step - loss: 0.4268 - acc: 0.6667\n",
      "Epoch 73/100\n",
      "15/15 [==============================] - 0s 616us/step - loss: 0.4156 - acc: 0.6667\n",
      "Epoch 74/100\n",
      "15/15 [==============================] - 0s 645us/step - loss: 0.4053 - acc: 0.6667\n",
      "Epoch 75/100\n",
      "15/15 [==============================] - 0s 542us/step - loss: 0.3936 - acc: 0.6667\n",
      "Epoch 76/100\n",
      "15/15 [==============================] - 0s 546us/step - loss: 0.3824 - acc: 0.6667\n",
      "Epoch 77/100\n",
      "15/15 [==============================] - 0s 604us/step - loss: 0.3733 - acc: 0.6667\n",
      "Epoch 78/100\n",
      "15/15 [==============================] - 0s 653us/step - loss: 0.3650 - acc: 0.6667\n",
      "Epoch 79/100\n",
      "15/15 [==============================] - 0s 638us/step - loss: 0.3526 - acc: 0.6667\n",
      "Epoch 80/100\n",
      "15/15 [==============================] - 0s 617us/step - loss: 0.3457 - acc: 0.6667\n",
      "Epoch 81/100\n",
      "15/15 [==============================] - 0s 489us/step - loss: 0.3364 - acc: 0.6667\n",
      "Epoch 82/100\n",
      "15/15 [==============================] - 0s 431us/step - loss: 0.3294 - acc: 0.6667\n",
      "Epoch 83/100\n",
      "15/15 [==============================] - 0s 534us/step - loss: 0.3223 - acc: 0.6667\n",
      "Epoch 84/100\n",
      "15/15 [==============================] - 0s 383us/step - loss: 0.3159 - acc: 0.6667\n",
      "Epoch 85/100\n",
      "15/15 [==============================] - 0s 684us/step - loss: 0.3087 - acc: 0.6667\n",
      "Epoch 86/100\n",
      "15/15 [==============================] - 0s 667us/step - loss: 0.3007 - acc: 0.6667\n",
      "Epoch 87/100\n",
      "15/15 [==============================] - 0s 606us/step - loss: 0.2966 - acc: 0.6667\n",
      "Epoch 88/100\n",
      "15/15 [==============================] - 0s 579us/step - loss: 0.2906 - acc: 0.6667\n",
      "Epoch 89/100\n",
      "15/15 [==============================] - 0s 520us/step - loss: 0.2844 - acc: 0.6667\n",
      "Epoch 90/100\n",
      "15/15 [==============================] - 0s 592us/step - loss: 0.2844 - acc: 0.6667\n",
      "Epoch 91/100\n",
      "15/15 [==============================] - 0s 443us/step - loss: 0.2784 - acc: 0.6667\n",
      "Epoch 92/100\n",
      "15/15 [==============================] - 0s 516us/step - loss: 0.2754 - acc: 0.6667\n",
      "Epoch 93/100\n",
      "15/15 [==============================] - 0s 578us/step - loss: 0.2735 - acc: 0.6667\n",
      "Epoch 94/100\n",
      "15/15 [==============================] - 0s 577us/step - loss: 0.2701 - acc: 0.6667\n",
      "Epoch 95/100\n",
      "15/15 [==============================] - 0s 487us/step - loss: 0.2660 - acc: 0.6667\n",
      "Epoch 96/100\n",
      "15/15 [==============================] - 0s 719us/step - loss: 0.2610 - acc: 0.6667\n",
      "Epoch 97/100\n",
      "15/15 [==============================] - 0s 676us/step - loss: 0.2586 - acc: 0.6667\n",
      "Epoch 98/100\n",
      "15/15 [==============================] - 0s 699us/step - loss: 0.2584 - acc: 0.7333\n",
      "Epoch 99/100\n",
      "15/15 [==============================] - 0s 640us/step - loss: 0.2528 - acc: 0.8667\n",
      "Epoch 100/100\n",
      "15/15 [==============================] - 0s 652us/step - loss: 0.2529 - acc: 1.0000\n"
     ]
    },
    {
     "data": {
      "text/plain": [
       "<keras.callbacks.History at 0x7f9294395c18>"
      ]
     },
     "execution_count": 16,
     "metadata": {
      "tags": []
     },
     "output_type": "execute_result"
    }
   ],
   "source": [
    "# TRAINING\n",
    "classifier.fit(x, y, batch_size = 10, epochs = 100)"
   ]
  },
  {
   "cell_type": "code",
   "execution_count": 0,
   "metadata": {
    "colab": {},
    "colab_type": "code",
    "id": "YYNynEmgLUe8"
   },
   "outputs": [],
   "source": [
    "# CARA SAVE MODEL\n",
    "classifier.save(\"model.h5\")"
   ]
  },
  {
   "cell_type": "code",
   "execution_count": 0,
   "metadata": {
    "colab": {},
    "colab_type": "code",
    "id": "h0xGROcwLZS3"
   },
   "outputs": [],
   "source": [
    "# CARA MENGAMBIL MODEL\n",
    "from keras.models import load_model\n",
    "\n",
    "model = load_model('model.h5')"
   ]
  },
  {
   "cell_type": "code",
   "execution_count": 0,
   "metadata": {
    "colab": {},
    "colab_type": "code",
    "id": "6183S1WlLd8m"
   },
   "outputs": [],
   "source": [
    "# PREDIKSI/INFERENCE\n",
    "\n",
    "# kita akan memprediksikan jika ada inputan panjang = 1 & lebar = 1 maka model akan memprediksikan spesies menjadi 1 atau 0\n",
    "a = np.array([[1,1]])\n",
    "y_pred = classifier.predict(a)"
   ]
  },
  {
   "cell_type": "code",
   "execution_count": 0,
   "metadata": {
    "colab": {
     "base_uri": "https://localhost:8080/",
     "height": 34
    },
    "colab_type": "code",
    "id": "edB3c31hLf2l",
    "outputId": "c3aea32d-3ed0-4d21-9eea-1366bc4fedbd"
   },
   "outputs": [
    {
     "data": {
      "text/plain": [
       "array([[0.01532563]], dtype=float32)"
      ]
     },
     "execution_count": 20,
     "metadata": {
      "tags": []
     },
     "output_type": "execute_result"
    }
   ],
   "source": [
    "# HASIL PREDIKSI\n",
    "y_pred"
   ]
  },
  {
   "cell_type": "code",
   "execution_count": 0,
   "metadata": {
    "colab": {
     "base_uri": "https://localhost:8080/",
     "height": 34
    },
    "colab_type": "code",
    "id": "72fvE-gPiq-I",
    "outputId": "31ed7483-68d6-4f61-bc2c-a6816f0e6248"
   },
   "outputs": [
    {
     "name": "stdout",
     "output_type": "stream",
     "text": [
      "Spesies A\n"
     ]
    }
   ],
   "source": [
    "if(y_pred < 0.5):\n",
    "  print(\"Spesies A\")\n",
    "else:\n",
    "  print(\"Spesies B\")"
   ]
  },
  {
   "cell_type": "code",
   "execution_count": 0,
   "metadata": {
    "colab": {},
    "colab_type": "code",
    "id": "9HKj9AEwjH38"
   },
   "outputs": [],
   "source": []
  }
 ],
 "metadata": {
  "colab": {
   "collapsed_sections": [],
   "name": "Spesies Classification.ipynb",
   "provenance": []
  },
  "kernelspec": {
   "display_name": "Python 3",
   "language": "python",
   "name": "python3"
  },
  "language_info": {
   "codemirror_mode": {
    "name": "ipython",
    "version": 3
   },
   "file_extension": ".py",
   "mimetype": "text/x-python",
   "name": "python",
   "nbconvert_exporter": "python",
   "pygments_lexer": "ipython3",
   "version": "3.7.3"
  }
 },
 "nbformat": 4,
 "nbformat_minor": 1
}
