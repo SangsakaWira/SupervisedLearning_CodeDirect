{
 "cells": [
  {
   "cell_type": "markdown",
   "metadata": {},
   "source": [
    "# MNIST Fashion Classification\n",
    "Dataset yang digunakan adalah data baju dengan dimensi 28 x 28 x 1.\n",
    "\n",
    "![title](img/fashion.png)\n",
    "\n",
    "## Kelas:\n",
    "Kelas terbadi menjadi 10 kelas yang berbeda yang masing - masing direpresentasikan oleh 10 index angka yang berbeda:\n",
    "\n",
    "0. T-shirt/top\n",
    "1. Trouser\n",
    "2. Pullover\n",
    "3. Dress\n",
    "4. Coat\n",
    "5. Sandal\n",
    "6. Shirt\n",
    "7. Sneaker\n",
    "8. Bag\n",
    "9. Ankle boot \n",
    "\n",
    "## Diagram\n",
    "![title](img/diagram.png)\n",
    "\n",
    "## Cara kerja Conv Layer & Pooling Layer\n",
    "![title](img/cnnworks.gif)\n",
    "\n",
    "## CNN\n",
    "![title](img/cnn.png)\n",
    "\n",
    "\n",
    "## Flowchart\n",
    "Flowchart arsitektur CNN\n",
    "![title](img/flowchart.jpeg)"
   ]
  },
  {
   "cell_type": "code",
   "execution_count": 10,
   "metadata": {},
   "outputs": [],
   "source": [
    "# IMPORT LIBRARY\n",
    "import numpy as np\n",
    "import tensorflow as tf\n",
    "import keras\n",
    "from keras.models import Model\n",
    "from keras.layers import Input, Activation, Dense, Conv2D, MaxPooling2D, ZeroPadding2D, Flatten\n",
    "from keras.optimizers import Adam\n",
    "from keras.utils.np_utils import to_categorical\n",
    "from keras.callbacks import TensorBoard\n",
    "from keras.datasets import fashion_mnist\n",
    "import matplotlib.pyplot as plt\n",
    "\n",
    "%matplotlib inline"
   ]
  },
  {
   "cell_type": "code",
   "execution_count": 11,
   "metadata": {},
   "outputs": [],
   "source": [
    "# DOWNLOAD DATASET\n",
    "(train_x, train_y), (test_x, test_y) = fashion_mnist.load_data()\n",
    "\n",
    "train_x = train_x.astype('float32') / 255.\n",
    "test_x = test_x.astype('float32') / 255.\n",
    "\n",
    "train_x = np.reshape(train_x, (len(train_x), 28, 28, 1))\n",
    "test_x = np.reshape(test_x, (len(test_x), 28, 28, 1))\n",
    "\n",
    "train_y = to_categorical( train_y )\n",
    "test_y = to_categorical( test_y )"
   ]
  },
  {
   "cell_type": "code",
   "execution_count": 12,
   "metadata": {},
   "outputs": [],
   "source": [
    "fashion_mnist = keras.datasets.fashion_mnist\n",
    "\n",
    "(train_images, train_labels), (test_images, test_labels) = fashion_mnist.load_data()\n",
    "class_names = ['T-shirt/top', 'Trouser', 'Pullover', 'Dress', 'Coat',\n",
    "               'Sandal', 'Shirt', 'Sneaker', 'Bag', 'Ankle boot']"
   ]
  },
  {
   "cell_type": "code",
   "execution_count": 13,
   "metadata": {},
   "outputs": [
    {
     "data": {
      "image/png": "[encoded data removed]",
      "text/plain": [
       "<Figure size 432x288 with 2 Axes>"
      ]
     },
     "metadata": {
      "needs_background": "light"
     },
     "output_type": "display_data"
    }
   ],
   "source": [
    "plt.figure()\n",
    "plt.imshow(train_images[0])\n",
    "plt.colorbar()\n",
    "plt.grid(False)\n",
    "plt.show()"
   ]
  },
  {
   "cell_type": "code",
   "execution_count": 72,
   "metadata": {},
   "outputs": [],
   "source": [
    "# Feature Extraction Layer\n",
    "inputs = Input(shape=(28, 28, 1))\n",
    "conv_layer = ZeroPadding2D(padding=(2,2))(inputs) \n",
    "conv_layer = Conv2D(64, (5, 5), strides=(3,3), activation='relu')(conv_layer) \n",
    "conv_layer = MaxPooling2D((2, 2))(conv_layer) \n",
    "conv_layer = Conv2D(64, (3, 3), strides=(1,1), activation='relu')(conv_layer) \n",
    "conv_layer = ZeroPadding2D(padding=(1,1))(conv_layer) \n",
    "conv_layer = Conv2D(64, (3, 3), strides=(1,1), activation='relu')(conv_layer)\n",
    "conv_layer = ZeroPadding2D(padding=(1,1))(conv_layer) \n",
    "conv_layer = Conv2D(64, (3, 3), strides=(1,1), activation='relu')(conv_layer)"
   ]
  },
  {
   "cell_type": "code",
   "execution_count": 73,
   "metadata": {},
   "outputs": [
    {
     "name": "stdout",
     "output_type": "stream",
     "text": [
      "_________________________________________________________________\n",
      "Layer (type)                 Output Shape              Param #   \n",
      "=================================================================\n",
      "input_5 (InputLayer)         (None, 28, 28, 1)         0         \n",
      "_________________________________________________________________\n",
      "zero_padding2d_10 (ZeroPaddi (None, 32, 32, 1)         0         \n",
      "_________________________________________________________________\n",
      "conv2d_14 (Conv2D)           (None, 10, 10, 64)        1664      \n",
      "_________________________________________________________________\n",
      "max_pooling2d_5 (MaxPooling2 (None, 5, 5, 64)          0         \n",
      "_________________________________________________________________\n",
      "conv2d_15 (Conv2D)           (None, 3, 3, 64)          36928     \n",
      "_________________________________________________________________\n",
      "zero_padding2d_11 (ZeroPaddi (None, 5, 5, 64)          0         \n",
      "_________________________________________________________________\n",
      "conv2d_16 (Conv2D)           (None, 3, 3, 64)          36928     \n",
      "_________________________________________________________________\n",
      "zero_padding2d_12 (ZeroPaddi (None, 5, 5, 64)          0         \n",
      "_________________________________________________________________\n",
      "conv2d_17 (Conv2D)           (None, 3, 3, 64)          36928     \n",
      "_________________________________________________________________\n",
      "flatten_6 (Flatten)          (None, 576)               0         \n",
      "_________________________________________________________________\n",
      "dense_28 (Dense)             (None, 56)                32312     \n",
      "_________________________________________________________________\n",
      "dense_29 (Dense)             (None, 14)                798       \n",
      "_________________________________________________________________\n",
      "dense_30 (Dense)             (None, 10)                150       \n",
      "=================================================================\n",
      "Total params: 145,708\n",
      "Trainable params: 145,708\n",
      "Non-trainable params: 0\n",
      "_________________________________________________________________\n",
      "None\n"
     ]
    }
   ],
   "source": [
    "# Flatten feature map to Vector with 576 element.\n",
    "flatten = Flatten()(conv_layer) \n",
    "\n",
    "# Fully Connected Layer\n",
    "fc_layer = Dense(256, activation='relu')(flatten)\n",
    "fc_layer = Dense(200, activation='relu')(fc_layer)\n",
    "fc_layer = Dense(156, activation='relu')(flatten)\n",
    "fc_layer = Dense(64, activation='relu')(fc_layer)\n",
    "fc_layer = Dense(56, activation='relu')(flatten)\n",
    "fc_layer = Dense(14, activation='relu')(fc_layer)\n",
    "outputs = Dense(10, activation='softmax')(fc_layer)\n",
    "\n",
    "model = Model(inputs=inputs, outputs=outputs)\n",
    "\n",
    "# Adam Optimizer and Cross Entropy Loss\n",
    "adam = Adam(lr=0.0001)\n",
    "model.compile(optimizer=adam, loss='categorical_crossentropy', metrics=['accuracy'])\n",
    "\n",
    "# Print Model Summary\n",
    "print(model.summary())"
   ]
  },
  {
   "cell_type": "code",
   "execution_count": 74,
   "metadata": {},
   "outputs": [
    {
     "name": "stdout",
     "output_type": "stream",
     "text": [
      "Train on 60000 samples, validate on 10000 samples\n",
      "Epoch 1/10\n",
      "60000/60000 [==============================] - 9s 142us/step - loss: 2.1874 - acc: 0.2250 - val_loss: 1.9331 - val_acc: 0.3349\n",
      "Epoch 2/10\n",
      "60000/60000 [==============================] - 8s 140us/step - loss: 1.5147 - acc: 0.5079 - val_loss: 1.1445 - val_acc: 0.6555\n",
      "Epoch 3/10\n",
      "60000/60000 [==============================] - 8s 139us/step - loss: 0.9472 - acc: 0.7032 - val_loss: 0.8250 - val_acc: 0.7204\n",
      "Epoch 4/10\n",
      "60000/60000 [==============================] - 8s 135us/step - loss: 0.7629 - acc: 0.7378 - val_loss: 0.7247 - val_acc: 0.7478\n",
      "Epoch 5/10\n",
      "60000/60000 [==============================] - 8s 137us/step - loss: 0.6867 - acc: 0.7576 - val_loss: 0.6731 - val_acc: 0.7631\n",
      "Epoch 6/10\n",
      "60000/60000 [==============================] - 8s 134us/step - loss: 0.6449 - acc: 0.7702 - val_loss: 0.6394 - val_acc: 0.7755\n",
      "Epoch 7/10\n",
      "60000/60000 [==============================] - 8s 139us/step - loss: 0.6164 - acc: 0.7791 - val_loss: 0.6200 - val_acc: 0.7797\n",
      "Epoch 8/10\n",
      "60000/60000 [==============================] - 8s 137us/step - loss: 0.5949 - acc: 0.7886 - val_loss: 0.6055 - val_acc: 0.7818\n",
      "Epoch 9/10\n",
      "60000/60000 [==============================] - 8s 135us/step - loss: 0.5792 - acc: 0.7918 - val_loss: 0.5928 - val_acc: 0.7902\n",
      "Epoch 10/10\n",
      "60000/60000 [==============================] - 8s 136us/step - loss: 0.5672 - acc: 0.7963 - val_loss: 0.5873 - val_acc: 0.7797\n"
     ]
    }
   ],
   "source": [
    "# Use TensorBoard\n",
    "callbacks = TensorBoard(log_dir='./Graph')\n",
    "\n",
    "# Train for 100 Epochs and use TensorBoard Callback\n",
    "model.fit(train_x, train_y, batch_size=1000, epochs=10, verbose=1, validation_data=(test_x, test_y), callbacks=[callbacks])\n",
    "\n",
    "# Save Weights\n",
    "model.save_weights('weights.h5')"
   ]
  },
  {
   "cell_type": "code",
   "execution_count": 75,
   "metadata": {},
   "outputs": [],
   "source": [
    "history = model.predict(test_x)"
   ]
  },
  {
   "cell_type": "code",
   "execution_count": 76,
   "metadata": {},
   "outputs": [
    {
     "name": "stdout",
     "output_type": "stream",
     "text": [
      "Kelas: Dress\n",
      "Keyakinan: 0.8965418\n"
     ]
    },
    {
     "data": {
      "image/png": "[encoded data removed]",
      "text/plain": [
       "<Figure size 432x288 with 2 Axes>"
      ]
     },
     "metadata": {
      "needs_background": "light"
     },
     "output_type": "display_data"
    }
   ],
   "source": [
    "class_names = ['T-shirt/top', 'Trouser', 'Pullover', 'Dress', 'Coat',\n",
    "               'Sandal', 'Shirt', 'Sneaker', 'Bag', 'Ankle boot']\n",
    "\n",
    "index = 100\n",
    "max_predict = np.amax(history[index])\n",
    "kelas = 0\n",
    "for i in history[index]:\n",
    "    if(max_predict == i):\n",
    "        print(\"Kelas: \"+str(class_names[kelas]))\n",
    "        print(\"Keyakinan: \"+str(max_predict))\n",
    "        kelas_fix = kelas\n",
    "        break\n",
    "    kelas += 1\n",
    "    \n",
    "plt.figure()\n",
    "plt.imshow(train_images[kelas_fix])\n",
    "plt.colorbar()\n",
    "plt.grid(False)\n",
    "plt.show()"
   ]
  },
  {
   "cell_type": "code",
   "execution_count": null,
   "metadata": {},
   "outputs": [],
   "source": []
  }
 ],
 "metadata": {
  "kernelspec": {
   "display_name": "Python 3",
   "language": "python",
   "name": "python3"
  },
  "language_info": {
   "codemirror_mode": {
    "name": "ipython",
    "version": 3
   },
   "file_extension": ".py",
   "mimetype": "text/x-python",
   "name": "python",
   "nbconvert_exporter": "python",
   "pygments_lexer": "ipython3",
   "version": "3.7.3"
  }
 },
 "nbformat": 4,
 "nbformat_minor": 2
}
